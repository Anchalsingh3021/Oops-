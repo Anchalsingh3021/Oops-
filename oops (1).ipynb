{
  "nbformat": 4,
  "nbformat_minor": 0,
  "metadata": {
    "colab": {
      "provenance": []
    },
    "kernelspec": {
      "name": "python3",
      "display_name": "Python 3"
    },
    "language_info": {
      "name": "python"
    }
  },
  "cells": [
    {
      "cell_type": "markdown",
      "source": [
        "### OOPS ASSIGNMENT\n",
        "\n",
        "\n",
        "\n",
        "\n",
        "1. What is Object-Oriented Programming (OOP)?\n",
        "\n",
        " - Object-Oriented Programming (OOP) is a programming style that organizes software design around \"objects\" rather than functions or logic. These objects are instances of classes, which are blueprints that define properties (attributes) and behaviors (methods). The key concepts in OOP are:\n",
        "\n",
        "     Encapsulation: Bundling data and methods that work on the data within a single unit, i.e., a class.\n",
        "\n",
        "     Inheritance: Creating new classes from existing ones, so the new class inherits properties and behaviors.\n",
        "\n",
        "     Polymorphism: Allowing objects of different classes to be treated as objects of a common superclass, with methods behaving differently.\n",
        "\n",
        "     Abstraction: Hiding the complex implementation details and exposing only the necessary features.\n",
        "     \n",
        "     OOP makes code more reusable, easier to maintain, and more structured.\n",
        "\n",
        "\n",
        "2. What is a class in OOP?\n",
        "\n",
        "\n",
        "  - In Object-Oriented Programming (OOP), a class is like a blueprint or template for creating objects. It defines the structure and behavior that the objects created from it will have. A class contains attributes (also called fields or properties) that represent the data, and methods (also called functions) that define the actions or behaviors the objects can perform. For example, a \"Car\" class could have attributes like color and model, and methods like start() or drive(). When an object is created from the class, it's called an instance, and it will have the properties and abilities defined by that class. Essentially, a class is the foundation for creating and organizing objects in OOP.\n",
        "\n",
        "\n",
        "3. What is an object in OOP?\n",
        "\n",
        " - In Object-Oriented Programming (OOP), an object is like a real-world thing that is created using a class. A class is like a blueprint, and an object is an actual item made from that blueprint. For example, if you have a \"Car\" class, an object would be a specific car, like a \"red Toyota.\" The object has certain details, like its color or model, and can do things, like \"start\" or \"drive.\" In simple terms, an object is an actual thing created from a class that can hold information and perform actions.\n",
        "\n",
        "\n",
        "4. What is the difference between abstraction and encapsulation?\n",
        "\n",
        " - Abstraction and encapsulation are both important concepts in Object-Oriented Programming (OOP), but they serve different purposes.\n",
        "\n",
        "     **Abstraction** is about hiding the complexity of how something works and only showing the essential details to the user. It helps in focusing on what an object does rather than how it does it. For example, when you drive a car, you don't need to know how the engine works; you only need to know how to use the steering wheel, pedals, and buttons. In programming, this could mean using functions or methods that simplify complex processes.\n",
        "\n",
        "     **Encapsulation**, on the other hand, is about bundling the data attributes and the methods functions that operate on that data into a single unit, called a class. It also protects the data by controlling how it is accessed and modified, usually through public or private access modifiers. For example, in a class, you might keep sensitive data private and provide methods getters and setters to allow controlled access.\n",
        "\n",
        "     \n",
        "5. What are dunder methods in Python?\n",
        "\n",
        "  - In Python, **dunder methods** (short for \"double underscore\" methods) are special methods that have double underscores before and after their names, like `__init__`, `__str__`, and `__add__`. These methods are also known as \"magic methods\" or \"special methods.\" They are used to define how objects of a class behave in certain situations, such as when performing arithmetic operations, printing objects, or comparing them.Dunder methods allow you to customize the behavior of your objects in Python, making them more intuitive and easier to work with.\n",
        "\n",
        " example:\n",
        "- `__init__`: This method is the constructor used to initialize new objects when they are created.\n",
        "- `__str__`: This method defines how an object is represented as a string, which is useful when you print the object.\n",
        "- `__add__`: This method is used to define how the `+` operator works for objects of a class, allowing you to add them together.\n",
        "\n",
        "6. Explain the concept of inheritance in OOP.\n",
        "\n",
        " - Inheritance in OOP is a mechanism where one class called the child or subclass can inherit properties and methods from another class called the parent or superclass. It allows you to create a new class based on an existing class, which promotes code reuse and makes programs easier to maintain. For example, if you have a class called \"Animal\" with methods like \"eat\" and \"sleep,\" a class \"Dog\" can inherit these methods, so you don't need to write them again. The child class can also have its own unique methods or override the ones from the parent class. This way, inheritance helps in building a hierarchy and reducing code duplication.\n",
        "\n",
        "7. What is polymorphism in OOP?\n",
        "\n",
        " - Polymorphism in OOP means \"many shapes\" and allows objects of different classes to be treated as objects of a common parent class. It enables a single method to work with different types of objects. There are two main types: **method overriding** (where a subclass provides a specific implementation of a method already defined in the parent class) and **method overloading** (where multiple methods have the same name but different parameters). For example, a \"speak\" method could be used for both \"Dog\" and \"Cat\" classes, but each class may have a different way of speaking. Polymorphism makes code more flexible and reusable by allowing methods to operate on objects of various classes in a unified way.\n",
        "\n",
        "8. How is encapsulation achieved in Python?\n",
        "\n",
        " - In Python, encapsulation is achieved by restricting direct access to some of an object's attributes and methods, and instead, providing access through public methods. This is done using **private** and **public** access modifiers.\n",
        "\n",
        "  - **Public attributes** can be accessed directly from outside the class.\n",
        "  - **Private attributes** are made by prefixing the attribute name with two underscores (e.g., `__variable`). This prevents direct access from outside the class.\n",
        "\n",
        "     Python doesn't have strict access control like other languages . Instead, it uses **name mangling** to make private variables less accessible but still accessible through a special name (e.g., `_ClassName__variable`). To interact with private data, Python provides getter and setter methods, allowing controlled access to those attributes. This helps maintain security and control over how data is accessed or modified.\n",
        "\n",
        "\n",
        "9. What is a constructor in Python?\n",
        "  - A constructor in Python is like a special function that runs automatically when you create a new object from a class. It's called __init__(), and its job is to set up the initial state of the object—kind of like setting up the initial details when you create something new. For example, if you're creating a \"Person\" object, the constructor can take details like their name and age and store them inside the object.\n",
        "\n",
        " example:\n",
        "\n",
        "\n",
        "    class Person:\n",
        "    def __init__(self, name, age):\n",
        "        self.name = name\n",
        "        self.age = age\n",
        "  So, when we create a new person with p = Person(\"Anchal\", 30), the constructor automatically sets p.name to \"Anchal\" and p.age to 30. It’s like filling in a form when you create something new, so it starts with the right information.\n",
        "\n",
        "10. What are class and static methods in Python?\n",
        "\n",
        " - In Python, class and static methods are special methods that are defined inside a class, but they behave differently from regular instance methods.\n",
        "\n",
        "  - **Class Method**: A class method is a method that takes the class itself as the first argument, rather than an instance of the class. It’s defined using the `@classmethod` decorator. You use class methods when you want to work with the class itself, not just its instances. The first parameter is usually called `cls`, which refers to the class.\n",
        "\n",
        "For example:\n",
        "```python\n",
        "class MyClass:\n",
        "    count = 0\n",
        "\n",
        "    @classmethod\n",
        "    def increment_count(cls):\n",
        "        cls.count += 1\n",
        "```\n",
        "\n",
        "   - **Static Method**: A static method, on the other hand, doesn't take either the instance (`self`) or the class (`cls`) as its first argument. It is defined using the `@staticmethod` decorator. Static methods behave like regular functions, but they belong to the class. They don't depend on instance or class-specific data.\n",
        "\n",
        "For example:\n",
        "```python\n",
        "class MyClass:\n",
        "    @staticmethod\n",
        "    def greet():\n",
        "        print(\"Hello, World!\")\n",
        "```\n",
        "\n",
        "11. What is method overloading in Python?\n",
        "\n",
        " - In Python, method overloading refers to the ability to define multiple methods with the same name but different parameters either in number or type. However, Python doesn't directly support traditional method overloading like some other languages. In Python, if you define a method with the same name multiple times, the last one will overwrite the previous ones.we can achieve method overloading-like behavior by using default arguments or variable-length argument lists (like *args or **kwargs), allowing a method to handle different numbers of arguments.\n",
        " Default arguments allow you to define a method with optional parameters. If no value is provided for those parameters, Python uses a default value, enabling the method to handle different numbers of arguments.\n",
        "\n",
        " - *args allows a method to accept any number of positional arguments, which gives flexibility in how the method is called.\n",
        "\n",
        " - **kwargs is used to accept a variable number of keyword arguments, allowing methods to handle different named parameters.\n",
        "\n",
        "     While Python doesn't have traditional method overloading, these approaches let you create methods that can adapt to various types or numbers of inputs, making your code more flexible.\n",
        "\n",
        "12.  What is method overriding in OOP?\n",
        "\n",
        " - **Method overriding** in OOP happens when a subclass provides its own specific implementation of a method that is already defined in its parent class. The subclass method has the same name, parameters, and return type as the parent method but can perform a different action.\n",
        "\n",
        "     For example, if the parent class has a `speak` method, the subclass can override it to provide a different version of how it \"speaks.\" This allows the subclass to change or extend the behavior of the inherited method, making it more relevant to the subclass's purpose.\n",
        "\n",
        "     Method overriding helps in customizing the inherited behavior while still keeping the method signature consistent across the class hierarchy.\n",
        "\n",
        "13. What is a property decorator in Python?\n",
        "\n",
        " - In Python, a **property decorator** is used to define a method that behaves like an attribute, allowing you to get, set, or delete an attribute in a controlled way. It’s a way to manage how an attribute is accessed or modified without directly exposing the underlying data.\n",
        "\n",
        "     we use the `@property` decorator to define a getter method, which is called when you access the attribute. we can also use `@<property_name>.setter` to define a setter method for when you want to modify the attribute.This is useful for adding logic to getting or setting an attribute, like validation or computed values.\n",
        "\n",
        "     For example:\n",
        "    - `@property` lets you get the value of an attribute.\n",
        "    - `@<property_name>.setter` lets you set the value of the attribute.\n",
        "\n",
        "     It allows you to control how the attribute behaves while keeping the syntax simple like an attribute access.\n",
        "\n",
        "14. Why is polymorphism important in OOP?\n",
        "  \n",
        "  -Polymorphism is important in OOP because it allows different classes to be treated as instances of the same class through a common interface, enabling flexibility and code reuse. With polymorphism, we can write generic code that can work with objects of different types, making the code more extensible and easier to maintain.\n",
        "\n",
        "   For example, we can define a method in a parent class and override it in multiple subclasses. Polymorphism ensures that the correct method is called depending on the object’s actual type, not its reference type. This helps in writing cleaner, more modular, and scalable code by promoting loose coupling between components.\n",
        "\n",
        "15. What is an abstract class in Python?\n",
        "\n",
        " - An **abstract class** in Python is a class that cannot be instantiated directly. It serves as a blueprint for other classes. Abstract classes are used to define methods that must be implemented by subclasses, but they provide no implementation themselves. This ensures that any subclass inherits and implements the required methods.\n",
        "\n",
        "     To create an abstract class in Python, we use the `abc` Abstract Base Class module. The `@abstractmethod` decorator marks methods in the abstract class that must be overridden in the subclass.\n",
        "\n",
        "     For example, an abstract class can define a general structure, but the actual behavior is left for the subclasses to define. This enforces a certain structure while allowing flexibility in implementation.\n",
        "     This helps in creating a clear and consistent design for complex systems.\n",
        "\n",
        "     example:\n",
        "    - An **abstract class** defines the structure.\n",
        "    - A **subclass** implements the details.\n",
        "\n",
        "16. What are the advantages of OOP?\n",
        "\n",
        " - Object-Oriented Programming (OOP) offers several advantages OOP leads to better organization, reusability, and flexibility in software development.\n",
        "\n",
        "  1. **Modularity**: OOP allows you to break down a program into smaller, manageable pieces called objects. Each object is a self-contained unit, making the code more organized and easier to maintain.\n",
        "\n",
        "  2. **Reusability**: Once a class is created, it can be reused across different parts of the program or in other programs, reducing redundancy and saving development time.\n",
        "\n",
        "  3. **Extensibility**: OOP makes it easier to extend and modify existing code. Through inheritance, new classes can be created from existing ones, adding or modifying features without changing the original code.\n",
        "\n",
        "  4. **Maintainability**: OOP encourages clean and modular code. When a bug occurs or an update is needed, it's easier to identify and fix issues in specific objects or classes without affecting the entire system.\n",
        "\n",
        "  5. **Abstraction**: OOP allows you to hide complex implementation details and only expose the necessary features of an object. This makes the code easier to understand and work with.\n",
        "\n",
        "  6. **Encapsulation**: It helps in protecting data by restricting access to internal object details. This makes the code more secure and avoids accidental changes to important data.\n",
        "\n",
        "  7. **Polymorphism**: With polymorphism, you can use a single interface to represent different data types, making your code more flexible and adaptable.\n",
        "\n",
        "17. What is the difference between a class variable and an instance variable?\n",
        "\n",
        " No problem! Here's the explanation without the code:\n",
        "\n",
        " 1. **Class Variable**:\n",
        "   - It belongs to the class itself, not to any specific object (instance) of the class.\n",
        "   - It is shared by all objects created from that class. If one object changes a class variable, the change is reflected in all other objects.\n",
        "   - Example: In a School class, if there is a variable for total number of students, every time a new student joins, all objects students will see the updated total number of students.\n",
        "\n",
        " 2. **Instance Variable**:\n",
        "   - it belongs to a specific object. Each object (instance) created from the class can have its own values for these variables.\n",
        "   - They are usually set when the object is created, and they store unique data for each object.\n",
        "   - Example: In a School class, each Student might have a name and age. These values are different for each student, so each student object has its own instance variables.\n",
        "\n",
        "18. What is multiple inheritance in Python?\n",
        "\n",
        " - **Multiple inheritance** in Python is when a class inherits from more than one parent class. This allows the child class to combine the attributes and methods of multiple parent classes, making it easier to reuse code. For example, a class can inherit features from two or more classes, which helps in creating more complex behaviors without rewriting code.\n",
        "\n",
        "     However, it can lead to ambiguity if two parent classes have methods with the same name. Python handles this using a method resolution order (MRO), determining the order in which base classes are inherited. While powerful, multiple inheritance should be used carefully to avoid potential conflicts or confusion.\n",
        "\n",
        "\n",
        "19.  Explain the purpose of ‘’__str__’ and ‘__repr__’ ‘ methods in Python.\n",
        "\n",
        " - The **`__str__`** and **`__repr__`** methods in Python are used to define how an object should be represented as a string when printed or converted to a string.\n",
        "\n",
        "  1. **`__str__` method**:\n",
        "   - This method is used to define a user-friendly or readable string representation of an object.\n",
        "   - It is called by the `print()` function or `str()` when we try to print an object. It’s meant to give a simple, informal description of the object.\n",
        "   - Example: we might use `__str__` to return something easy to read, like `\"This is a student: John\"`.\n",
        "\n",
        "  2. **`__repr__` method**:\n",
        "   - This method is used to define an \"official\" or detailed string representation of the object.\n",
        "   - It is called by `repr()` or when we type the object in the interactive shell. It’s meant to give a more precise or unambiguous description of the object, often useful for debugging.\n",
        "   - Example: we might use `__repr__` to return something like `\"Student('John', 20)\"`, showing exactly how the object can be recreated.\n",
        "\n",
        "20. What is the significance of the ‘super()’ function in Python?\n",
        "\n",
        "  - The **`super()`** function in Python is used to call methods or attributes from a parent class within a child class. It helps avoid explicitly naming the parent class, making the code cleaner and more maintainable. This is especially useful when working with inheritance, as it allows a child class to extend or modify behavior inherited from a parent class. In cases of **multiple inheritance**, `super()` helps Python determine the correct method resolution order (MRO), ensuring the appropriate method from the right parent class is called. This reduces redundancy and makes code more flexible. Essentially, `super()` is a powerful tool to access and extend parent class functionality while keeping the code concise and organized.\n",
        "\n",
        "\n",
        "21. What is the significance of the __del__ method in Python?\n",
        "\n",
        " - The **`__del__`** method in Python is a special method known as a destructor. It is called when an object is about to be destroyed, usually when there are no more references to it. The purpose of **`__del__`** is to allow for cleanup operations before the object is removed from memory, such as closing files, releasing network resources, or freeing up other external resources.\n",
        "\n",
        "     While **`__del__`** can be useful for cleanup, it should be used with caution. Python's garbage collector handles memory management automatically, so the exact moment when **`__del__`** is called can be unpredictable. Relying on it for critical resource management might lead to issues, especially in complex programs. It’s better to use context managers (via with statements) or explicit cleanup methods for managing resources safely.\n",
        "\n",
        "22. What is the difference between @staticmethod and @classmethod in Python?\n",
        "\n",
        " - In Python, both **`@staticmethod`** and **`@classmethod`** are decorators used to define methods that belong to the class rather than to instances, but they differ in what they can access and how they are called.\n",
        "\n",
        "  - **`@staticmethod`** is a method that doesn’t take any special first argument like `self` or `cls`. It behaves like a regular function, but it belongs to the class. Since it doesn’t have access to the instance or the class itself, it is mainly used for utility functions that are related to the class but don’t require access to instance-specific or class-specific data.\n",
        "\n",
        "  -  **`@classmethod`** takes `cls` as its first argument, which represents the class itself. This allows the method to access or modify class-level data, but it still can’t interact with instance-specific attributes unless they are passed explicitly. **`@classmethod`** is often used when we need to work with class-level attributes or even create instances of the class.\n",
        "\n",
        "23. How does polymorphism work in Python with inheritance?\n",
        "\n",
        " - Polymorphism in Python allows objects of different classes to be treated as instances of the same class, while still calling methods specific to each class. With inheritance, a child class can override a method from the parent class. For example, if a parent class `Animal` has a method `speak()`, both `Dog` and `Cat` can implement their own version of `speak()`. When you call `speak()` on a `Dog` object, it might say \"Woof\", and on a `Cat` object, it might say \"Meow\". Polymorphism lets methods with the same name behave differently depending on the object's class.\n",
        "\n",
        "24. What is method chaining in Python OOP?\n",
        "\n",
        " - **Method chaining** in Python OOP allows multiple methods to be called on the same object in a single line of code. Each method in the chain returns the object itself (via `self`), enabling the next method to be called on that object. This technique is useful when you want to perform several operations on an object in a concise and readable way. For example, you can update multiple attributes of an object or perform a series of actions without needing to reference the object repeatedly.\n",
        "\n",
        "     To use method chaining, methods must return `self`, which makes it possible for the next method in the chain to operate on the same object. It helps reduce code repetition, improving readability and making the code more compact. Method chaining is commonly used when operations on an object are sequential and logically grouped together.\n",
        "\n",
        "25.  What is the purpose of the __call__ method in Python?\n",
        "\n",
        " - The **`__call__`** method in Python allows an object to be called like a function. When we define this method in a class, instances of that class can be invoked using parentheses, just like a regular function. The **`__call__`** method is useful when we want an object to behave like a callable, enabling we to define custom behavior when an object is called.\n",
        "\n",
        "         This can be helpful in cases where you we want to treat an object as a function but still maintain its object-oriented nature. For example, we could use **`__call__`** to create function-like behavior that maintains state across multiple calls or to define complex logic inside the object while still using it in a concise and functional way.\n",
        "\n",
        "\n",
        "\n",
        "\n",
        "\n",
        "\n"
      ],
      "metadata": {
        "id": "BTLL_ItGCikc"
      }
    },
    {
      "cell_type": "markdown",
      "source": [],
      "metadata": {
        "id": "xS5yQOJiCdvW"
      }
    },
    {
      "cell_type": "code",
      "execution_count": 1,
      "metadata": {
        "colab": {
          "base_uri": "https://localhost:8080/"
        },
        "id": "VuweOZKhBRgg",
        "outputId": "ab66791a-c219-4883-fc89-90e9b051397c"
      },
      "outputs": [
        {
          "output_type": "stream",
          "name": "stdout",
          "text": [
            "The animal makes a sound.\n",
            "Bark!\n"
          ]
        }
      ],
      "source": [
        "# 1. Create a parent class Animal with a method speak() that prints a generic message. Create a child class Dogthat overrides the speak() method to print \"Bark!\".\n",
        "\n",
        "# Parent class Animal\n",
        "class Animal:\n",
        "    def speak(self):\n",
        "        print(\"The animal makes a sound.\")\n",
        "\n",
        "# Child class Dog that overrides the speak() method\n",
        "class Dog(Animal):\n",
        "    def speak(self):\n",
        "        print(\"Bark!\")\n",
        "\n",
        "# Create instances of both classes\n",
        "animal = Animal()\n",
        "dog = Dog()\n",
        "\n",
        "# Call the speak method on both instances\n",
        "animal.speak()\n",
        "dog.speak()\n"
      ]
    },
    {
      "cell_type": "code",
      "source": [
        "# 2.  Write a program to create an abstract class Shape with a method area(). Derive classes Circle and Rectangle from it and implement the area() method in both.\n",
        "\n",
        "from abc import ABC, abstractmethod\n",
        "\n",
        "class Shape(ABC):\n",
        "    @abstractmethod\n",
        "    def area(self):\n",
        "        pass\n",
        "\n",
        "class Circle(Shape):\n",
        "    def __init__(self, radius):\n",
        "        self.radius = radius\n",
        "    def area(self):\n",
        "        return 3.14 * self.radius ** 2\n",
        "\n",
        "class Rectangle(Shape):\n",
        "    def __init__(self, length, width):\n",
        "        self.length = length\n",
        "        self.width = width\n",
        "    def area(self):\n",
        "        return self.length * self.width\n",
        "\n",
        "# Create objects\n",
        "circle = Circle(5)\n",
        "rectangle = Rectangle(4, 6)\n",
        "\n",
        "print(circle.area())\n",
        "print(rectangle.area())\n"
      ],
      "metadata": {
        "colab": {
          "base_uri": "https://localhost:8080/"
        },
        "id": "L23mLG0vxQ3X",
        "outputId": "865d4aad-c1bc-44c4-f3fb-8c195022fb0c"
      },
      "execution_count": 2,
      "outputs": [
        {
          "output_type": "stream",
          "name": "stdout",
          "text": [
            "78.5\n",
            "24\n"
          ]
        }
      ]
    },
    {
      "cell_type": "code",
      "source": [
        "# 3. Implement a multi-level inheritance scenario where a class Vehicle has an attribute type. Derive a class Car and further derive a class ElectricCar that adds a battery attribute.\n",
        "\n",
        "# Base class Vehicle\n",
        "class Vehicle:\n",
        "    def __init__(self, type):\n",
        "        self.type = type\n",
        "\n",
        "# Derived class Car\n",
        "class Car(Vehicle):\n",
        "    def __init__(self, type, model):\n",
        "        super().__init__(type)\n",
        "        self.model = model\n",
        "\n",
        "# Further derived class ElectricCar\n",
        "class ElectricCar(Car):\n",
        "    def __init__(self, type, model, battery):\n",
        "        super().__init__(type, model)\n",
        "        self.battery = battery\n",
        "\n",
        "# Create an instance of ElectricCar\n",
        "electric_car = ElectricCar(\"Electric\", \"Tesla Model 3\", \"75 kWh\")\n",
        "\n",
        "# Print details\n",
        "print(f\"Vehicle Type: {electric_car.type}\")\n",
        "print(f\"Car Model: {electric_car.model}\")\n",
        "print(f\"Battery: {electric_car.battery}\")\n"
      ],
      "metadata": {
        "colab": {
          "base_uri": "https://localhost:8080/"
        },
        "id": "XkIdPetlx1Jg",
        "outputId": "0b6b7331-fdb0-4a11-a364-a4487ba6d73c"
      },
      "execution_count": 3,
      "outputs": [
        {
          "output_type": "stream",
          "name": "stdout",
          "text": [
            "Vehicle Type: Electric\n",
            "Car Model: Tesla Model 3\n",
            "Battery: 75 kWh\n"
          ]
        }
      ]
    },
    {
      "cell_type": "code",
      "source": [
        "# 4.  Demonstrate polymorphism by creating a base class Bird with a method fly(). Create two derived classes Sparrow and Penguin that override the fly() method\n",
        "\n",
        "\n",
        "# Base class Bird\n",
        "class Bird:\n",
        "    def fly(self):\n",
        "        print(\"The bird is flying.\")\n",
        "\n",
        "# Derived class Sparrow\n",
        "class Sparrow(Bird):\n",
        "    def fly(self):\n",
        "        print(\"The sparrow is flying high.\")\n",
        "\n",
        "# Derived class Penguin\n",
        "class Penguin(Bird):\n",
        "    def fly(self):\n",
        "        print(\"Penguins can't fly.\")\n",
        "\n",
        "# Create instances\n",
        "bird = Bird()\n",
        "sparrow = Sparrow()\n",
        "penguin = Penguin()\n",
        "\n",
        "# Call the fly() method on each instance\n",
        "bird.fly()\n",
        "sparrow.fly()\n",
        "penguin.fly()\n",
        "\n"
      ],
      "metadata": {
        "colab": {
          "base_uri": "https://localhost:8080/"
        },
        "id": "kQgbIuqryPMd",
        "outputId": "abef2803-0606-4041-8b06-f588bd50f3ca"
      },
      "execution_count": 4,
      "outputs": [
        {
          "output_type": "stream",
          "name": "stdout",
          "text": [
            "The bird is flying.\n",
            "The sparrow is flying high.\n",
            "Penguins can't fly.\n"
          ]
        }
      ]
    },
    {
      "cell_type": "code",
      "source": [
        "# 5.  Write a program to demonstrate encapsulation by creating a class BankAccount with private attributes balance and methods to deposit, withdraw, and check balance.\n",
        "\n",
        "class BankAccount:\n",
        "    def __init__(self, owner, balance=0):\n",
        "        self.owner = owner\n",
        "        self.__balance = balance  # private attribute\n",
        "\n",
        "    # Method to deposit money\n",
        "    def deposit(self, amount):\n",
        "        if amount > 0:\n",
        "            self.__balance += amount\n",
        "            print(f\"Deposited {amount}. Current balance: {self.__balance}\")\n",
        "        else:\n",
        "            print(\"Deposit amount must be positive.\")\n",
        "\n",
        "    # Method to withdraw money\n",
        "    def withdraw(self, amount):\n",
        "        if amount <= self.__balance and amount > 0:\n",
        "            self.__balance -= amount\n",
        "            print(f\"Withdrew {amount}. Current balance: {self.__balance}\")\n",
        "        else:\n",
        "            print(\"Invalid withdrawal amount or insufficient funds.\")\n",
        "\n",
        "    # Method to check the balance\n",
        "    def check_balance(self):\n",
        "        print(f\"Current balance: {self.__balance}\")\n",
        "\n",
        "# Create a BankAccount object\n",
        "account = BankAccount(\"John\")\n",
        "\n",
        "# Perform some operations\n",
        "account.deposit(500)\n",
        "account.withdraw(200)\n",
        "account.check_balance()\n",
        "account.withdraw(400)\n",
        "account.check_balance()\n"
      ],
      "metadata": {
        "colab": {
          "base_uri": "https://localhost:8080/"
        },
        "id": "YCVLTUX6yxRm",
        "outputId": "75d9fecd-64a8-4b00-b194-f1123d54a2f4"
      },
      "execution_count": 5,
      "outputs": [
        {
          "output_type": "stream",
          "name": "stdout",
          "text": [
            "Deposited 500. Current balance: 500\n",
            "Withdrew 200. Current balance: 300\n",
            "Current balance: 300\n",
            "Invalid withdrawal amount or insufficient funds.\n",
            "Current balance: 300\n"
          ]
        }
      ]
    },
    {
      "cell_type": "code",
      "source": [
        "# 6.  Demonstrate runtime polymorphism using a method play() in a base class Instrument. Derive classes Guitar and Piano that implement their own version of play().\n",
        "\n",
        "# Base class Instrument\n",
        "class Instrument:\n",
        "    def play(self):\n",
        "        pass\n",
        "\n",
        "# Derived class Guitar\n",
        "class Guitar(Instrument):\n",
        "    def play(self):\n",
        "        print(\"Playing the Guitar.\")\n",
        "\n",
        "# Derived class Piano\n",
        "class Piano(Instrument):\n",
        "    def play(self):\n",
        "        print(\"Playing the Piano.\")\n",
        "\n",
        "# Function to demonstrate runtime polymorphism\n",
        "def perform_play(instrument: Instrument):\n",
        "    instrument.play()\n",
        "\n",
        "# Create instances of Guitar and Piano\n",
        "guitar = Guitar()\n",
        "piano = Piano()\n",
        "\n",
        "# Call the perform_play function to demonstrate polymorphism\n",
        "perform_play(guitar)\n",
        "perform_play(piano)\n",
        "\n"
      ],
      "metadata": {
        "colab": {
          "base_uri": "https://localhost:8080/"
        },
        "id": "4yftkS6-zDR3",
        "outputId": "f5e79821-9fe5-4b60-869b-44902fb04b7d"
      },
      "execution_count": 6,
      "outputs": [
        {
          "output_type": "stream",
          "name": "stdout",
          "text": [
            "Playing the Guitar.\n",
            "Playing the Piano.\n"
          ]
        }
      ]
    },
    {
      "cell_type": "code",
      "source": [
        "# 7. Create a class MathOperations with a class method add_numbers() to add two numbers and a static method subtract_numbers() to subtract two numbers.\n",
        "\n",
        "class MathOperations:\n",
        "    # Class method to add two numbers\n",
        "    @classmethod\n",
        "    def add_numbers(cls, a, b):\n",
        "        return a + b\n",
        "\n",
        "    # Static method to subtract two numbers\n",
        "    @staticmethod\n",
        "    def subtract_numbers(a, b):\n",
        "        return a - b\n",
        "\n",
        "# Using the class method and static method\n",
        "sum_result = MathOperations.add_numbers(10, 5)\n",
        "difference_result = MathOperations.subtract_numbers(10, 5)\n",
        "\n",
        "# Print results\n",
        "print(f\"Sum: {sum_result}\")         # Output: Sum: 15\n",
        "print(f\"Difference: {difference_result}\")  # Output: Difference: 5\n",
        "\n",
        "\n"
      ],
      "metadata": {
        "colab": {
          "base_uri": "https://localhost:8080/"
        },
        "id": "Hj_2vuTBziHJ",
        "outputId": "4404772b-e1af-4caf-bc5f-006e4d60cdf3"
      },
      "execution_count": 7,
      "outputs": [
        {
          "output_type": "stream",
          "name": "stdout",
          "text": [
            "Sum: 15\n",
            "Difference: 5\n"
          ]
        }
      ]
    },
    {
      "cell_type": "code",
      "source": [
        "# 8.  Implement a class Person with a class method to count the total number of persons created.\n",
        "class Person:\n",
        "    # Class variable to store the count of persons\n",
        "    total_persons = 0\n",
        "\n",
        "    def __init__(self, name, age):\n",
        "        self.name = name\n",
        "        self.age = age\n",
        "        # Increment the count each time a new person is created\n",
        "        Person.total_persons += 1\n",
        "\n",
        "    # Class method to get the total number of persons created\n",
        "    @classmethod\n",
        "    def count_persons(cls):\n",
        "        return cls.total_persons\n",
        "\n",
        "# Create Person objects\n",
        "person1 = Person(\"Anchal\", 30)\n",
        "person2 = Person(\"satyam\", 25)\n",
        "person3 = Person(\"yash\", 35)\n",
        "\n",
        "# Get the total number of persons created using the class method\n",
        "print(f\"Total persons created: {Person.count_persons()}\")  # Output: Total persons created: 3\n"
      ],
      "metadata": {
        "colab": {
          "base_uri": "https://localhost:8080/"
        },
        "id": "LLcEUSMT0CEI",
        "outputId": "124109be-0795-4d22-d8d6-97f87c88dcf4"
      },
      "execution_count": 9,
      "outputs": [
        {
          "output_type": "stream",
          "name": "stdout",
          "text": [
            "Total persons created: 3\n"
          ]
        }
      ]
    },
    {
      "cell_type": "code",
      "source": [
        "# 9. Write a class Fraction with attributes numerator and denominator. Override the str method to display the fraction as \"numerator/denominator\".\n",
        "\n",
        "class Fraction:\n",
        "    def __init__(self, numerator, denominator):\n",
        "        self.numerator = numerator\n",
        "        self.denominator = denominator\n",
        "\n",
        "    # Override the __str__ method to display the fraction as \"numerator/denominator\"\n",
        "    def __str__(self):\n",
        "        return f\"{self.numerator}/{self.denominator}\"\n",
        "\n",
        "# Create a Fraction object\n",
        "fraction = Fraction(3, 4)\n",
        "\n",
        "# Print the Fraction object, which will use the __str__ method\n",
        "print(fraction)\n"
      ],
      "metadata": {
        "colab": {
          "base_uri": "https://localhost:8080/"
        },
        "id": "E2AorXuo0rqv",
        "outputId": "923cae35-dc2a-4a06-8d2b-28b30f45b8d7"
      },
      "execution_count": 10,
      "outputs": [
        {
          "output_type": "stream",
          "name": "stdout",
          "text": [
            "3/4\n"
          ]
        }
      ]
    },
    {
      "cell_type": "code",
      "source": [
        "# 10.  Demonstrate operator overloading by creating a class Vector and overriding the add method to add two vectors.\n",
        "\n",
        "\n",
        "class Vector:\n",
        "    def __init__(self, x, y):\n",
        "        self.x = x\n",
        "        self.y = y\n",
        "\n",
        "    # Overload the + operator to add two vectors\n",
        "    def __add__(self, other):\n",
        "        return Vector(self.x + other.x, self.y + other.y)\n",
        "\n",
        "    # Override the __str__ method to represent the vector as a string\n",
        "    def __str__(self):\n",
        "        return f\"({self.x}, {self.y})\"\n",
        "\n",
        "# Create two Vector objects\n",
        "v1 = Vector(2, 3)\n",
        "v2 = Vector(4, 1)\n",
        "\n",
        "# Add the two vectors using the overloaded + operator\n",
        "v3 = v1 + v2\n",
        "\n",
        "# Print the result\n",
        "print(f\"Vector 1: {v1}\")\n",
        "print(f\"Vector 2: {v2}\")\n",
        "print(f\"Sum of Vectors: {v3}\")\n",
        "\n"
      ],
      "metadata": {
        "id": "ysrmrj3T1Kfz"
      },
      "execution_count": null,
      "outputs": []
    },
    {
      "cell_type": "code",
      "source": [
        "# 11.  Create a class Person with attributes name and age. Add a method greet() that prints \"Hello, my name is {name} and I am {age} years old.\"\n",
        "\n",
        "class Person:\n",
        "    def __init__(self, name, age):\n",
        "        self.name = name\n",
        "        self.age = age\n",
        "\n",
        "    # Method to greet the person\n",
        "    def greet(self):\n",
        "        print(f\"Hello, my name is {self.name} and I am {self.age} years old.\")\n",
        "\n",
        "# Create a Person object\n",
        "person1 = Person(\"Anchal\", 24)\n",
        "\n",
        "# Call the greet method\n",
        "person1.greet()\n",
        "\n"
      ],
      "metadata": {
        "colab": {
          "base_uri": "https://localhost:8080/"
        },
        "id": "iMVNhDb71Zxp",
        "outputId": "492c906e-c97b-4a0b-f97b-30c4c1c51e88"
      },
      "execution_count": 12,
      "outputs": [
        {
          "output_type": "stream",
          "name": "stdout",
          "text": [
            "Hello, my name is Anchal and I am 24 years old.\n"
          ]
        }
      ]
    },
    {
      "cell_type": "code",
      "source": [
        "# 12.  Implement a class Student with attributes name and grades. Create a method average_grade() to compute the average of the grades.\n",
        "\n",
        "class Student:\n",
        "    def __init__(self, name, grades):\n",
        "        self.name = name\n",
        "        self.grades = grades\n",
        "\n",
        "    # Method to compute the average grade\n",
        "    def average_grade(self):\n",
        "        return sum(self.grades) / len(self.grades) if self.grades else 0\n",
        "\n",
        "# Create a Student object\n",
        "student1 = Student(\"John\", [90, 85, 88, 92, 79])\n",
        "\n",
        "# Call the average_grade method\n",
        "avg_grade = student1.average_grade()\n",
        "\n",
        "# Print the average grade\n",
        "print(f\"{student1.name}'s average grade is: {avg_grade}\")\n"
      ],
      "metadata": {
        "colab": {
          "base_uri": "https://localhost:8080/"
        },
        "id": "EGc33-M514Zy",
        "outputId": "f7ac52c9-af0a-4a24-a714-a5293e3e5257"
      },
      "execution_count": 13,
      "outputs": [
        {
          "output_type": "stream",
          "name": "stdout",
          "text": [
            "John's average grade is: 86.8\n"
          ]
        }
      ]
    },
    {
      "cell_type": "code",
      "source": [
        "# 13.  Create a class Rectangle with methods set_dimensions() to set the dimensions and area() to calculate the area.\n",
        "\n",
        "class Rectangle:\n",
        "    def set_dimensions(self, length, width):\n",
        "        self.length = length\n",
        "        self.width = width\n",
        "\n",
        "    def area(self):\n",
        "        return self.length * self.width\n",
        "\n",
        "# Create and use the Rectangle object\n",
        "rect = Rectangle()\n",
        "rect.set_dimensions(5, 3)\n",
        "print(f\"Area: {rect.area()}\")\n"
      ],
      "metadata": {
        "colab": {
          "base_uri": "https://localhost:8080/"
        },
        "id": "nXnIp0DJ2StT",
        "outputId": "748d8dc3-3090-4ce3-91e0-efdc69ab0c09"
      },
      "execution_count": 14,
      "outputs": [
        {
          "output_type": "stream",
          "name": "stdout",
          "text": [
            "Area: 15\n"
          ]
        }
      ]
    },
    {
      "cell_type": "code",
      "source": [
        "# 14. Create a class Employee with a method calculate_salary() that computes the salary based on hours worked and hourly rate. Create a derived class Manager that adds a bonus to the salary.\n",
        "\n",
        "\n",
        "# Base class Employee\n",
        "class Employee:\n",
        "    def __init__(self, hours, rate):\n",
        "        self.hours = hours\n",
        "        self.rate = rate\n",
        "\n",
        "    def calculate_salary(self):\n",
        "        return self.hours * self.rate\n",
        "\n",
        "# Derived class Manager\n",
        "class Manager(Employee):\n",
        "    def __init__(self, hours, rate, bonus):\n",
        "        super().__init__(hours, rate)\n",
        "        self.bonus = bonus\n",
        "\n",
        "    def calculate_salary(self):\n",
        "        return super().calculate_salary() + self.bonus\n",
        "\n",
        "# Create objects\n",
        "emp = Employee(40, 20)\n",
        "mgr = Manager(40, 30, 500)\n",
        "\n",
        "# Print salaries\n",
        "print(f\"Employee Salary: ${emp.calculate_salary()}\")\n",
        "print(f\"Manager Salary: ${mgr.calculate_salary()}\")\n",
        "\n"
      ],
      "metadata": {
        "colab": {
          "base_uri": "https://localhost:8080/"
        },
        "id": "-UdfZvqJ2vJI",
        "outputId": "582a6ec9-3f20-4c76-f472-642851a6d741"
      },
      "execution_count": 15,
      "outputs": [
        {
          "output_type": "stream",
          "name": "stdout",
          "text": [
            "Employee Salary: $800\n",
            "Manager Salary: $1700\n"
          ]
        }
      ]
    },
    {
      "cell_type": "code",
      "source": [
        "# 15. Create a class Product with attributes name, price, and quantity. Implement a method total_price() that calculates the total price of the product.\n",
        "\n",
        "class Product:\n",
        "    def __init__(self, name, price, quantity):\n",
        "        self.name = name\n",
        "        self.price = price\n",
        "        self.quantity = quantity\n",
        "\n",
        "    # Method to calculate the total price\n",
        "    def total_price(self):\n",
        "        return self.price * self.quantity\n",
        "\n",
        "# Create a Product object\n",
        "product = Product(\"Laptop\", 1000, 3)\n",
        "\n",
        "# Calculate and print the total price\n",
        "print(f\"Total price of {product.name}: ${product.total_price()}\")\n"
      ],
      "metadata": {
        "colab": {
          "base_uri": "https://localhost:8080/"
        },
        "id": "J5xmxuNz3M0j",
        "outputId": "94af4778-4219-445a-e9db-c8899a92ef79"
      },
      "execution_count": 16,
      "outputs": [
        {
          "output_type": "stream",
          "name": "stdout",
          "text": [
            "Total price of Laptop: $3000\n"
          ]
        }
      ]
    },
    {
      "cell_type": "code",
      "source": [
        "# 16. Create a class Animal with an abstract method sound(). Create two derived classes Cow and Sheep that implement the sound() method.\n",
        "\n",
        "from abc import ABC, abstractmethod\n",
        "\n",
        "class Animal(ABC):\n",
        "    @abstractmethod\n",
        "    def sound(self):\n",
        "        pass\n",
        "\n",
        "class Cow(Animal):\n",
        "    def sound(self):\n",
        "        print(\"Moo\")\n",
        "\n",
        "class Sheep(Animal):\n",
        "    def sound(self):\n",
        "        print(\"Baa\")\n",
        "\n",
        "# Create instances and call sound\n",
        "Cow().sound()\n",
        "Sheep().sound()\n"
      ],
      "metadata": {
        "colab": {
          "base_uri": "https://localhost:8080/"
        },
        "id": "BPU_4mKh3naY",
        "outputId": "e97f1058-2dd0-4606-9aeb-fa4239c6026d"
      },
      "execution_count": 18,
      "outputs": [
        {
          "output_type": "stream",
          "name": "stdout",
          "text": [
            "Moo\n",
            "Baa\n"
          ]
        }
      ]
    },
    {
      "cell_type": "code",
      "source": [
        "# 17. Create a class Book with attributes title, author, and year_published. Add a method get_book_info() that returns a formatted string with the book's details.\n",
        "\n",
        "class Book:\n",
        "    def __init__(self, title, author, year_published):\n",
        "        self.title = title\n",
        "        self.author = author\n",
        "        self.year_published = year_published\n",
        "\n",
        "    # Method to get formatted book info\n",
        "    def get_book_info(self):\n",
        "        return f\"Title: {self.title}, Author: {self.author}, Year Published: {self.year_published}\"\n",
        "\n",
        "# Create a Book object\n",
        "book = Book(\"1984\", \"George Orwell\", 1949)\n",
        "\n",
        "# Get and print the book info\n",
        "print(book.get_book_info())\n"
      ],
      "metadata": {
        "colab": {
          "base_uri": "https://localhost:8080/"
        },
        "id": "tJMvvSE24GP_",
        "outputId": "288a372a-9724-4b02-c22a-45e7409fc101"
      },
      "execution_count": 19,
      "outputs": [
        {
          "output_type": "stream",
          "name": "stdout",
          "text": [
            "Title: 1984, Author: George Orwell, Year Published: 1949\n"
          ]
        }
      ]
    },
    {
      "cell_type": "code",
      "source": [
        "# 18.  Create a class House with attributes address and price. Create a derived class Mansion that adds an attribute number_of_rooms.\n",
        "\n",
        "\n",
        "# Base class House\n",
        "class House:\n",
        "    def __init__(self, address, price):\n",
        "        self.address = address\n",
        "        self.price = price\n",
        "\n",
        "# Derived class Mansion\n",
        "class Mansion(House):\n",
        "    def __init__(self, address, price, number_of_rooms):\n",
        "        super().__init__(address, price)\n",
        "        self.number_of_rooms = number_of_rooms\n",
        "\n",
        "    def display_info(self):\n",
        "        return f\"Address: {self.address}, Price: ${self.price}, Rooms: {self.number_of_rooms}\"\n",
        "\n",
        "# Create Mansion object\n",
        "mansion = Mansion(\"456 Luxury Ave\", 10000000, 15)\n",
        "print(mansion.display_info())\n"
      ],
      "metadata": {
        "colab": {
          "base_uri": "https://localhost:8080/"
        },
        "id": "HfYBHJgG4nOv",
        "outputId": "7595e736-9ae7-4057-be1d-bb07f63798da"
      },
      "execution_count": 20,
      "outputs": [
        {
          "output_type": "stream",
          "name": "stdout",
          "text": [
            "Address: 456 Luxury Ave, Price: $10000000, Rooms: 15\n"
          ]
        }
      ]
    }
  ]
}